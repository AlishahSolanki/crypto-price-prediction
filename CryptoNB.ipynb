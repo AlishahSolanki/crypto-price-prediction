{
 "cells": [
  {
   "cell_type": "code",
   "execution_count": 132,
   "id": "759e14c9",
   "metadata": {},
   "outputs": [],
   "source": [
    "# All Imports\n",
    "import tensorflow as tf\n",
    "import json\n",
    "import requests\n",
    "from keras.models import Sequential\n",
    "from keras.layers import Activation, Dense, Dropout, LSTM\n",
    "import matplotlib.pyplot as plt\n",
    "import numpy as np\n",
    "import pandas as pd\n",
    "import seaborn as sns\n",
    "from sklearn.metrics import mean_absolute_error\n",
    "%matplotlib inline\n",
    "from sklearn.model_selection import train_test_split\n"
   ]
  },
  {
   "cell_type": "code",
   "execution_count": 133,
   "id": "9b5b472a",
   "metadata": {},
   "outputs": [],
   "source": [
    "# Coincap aoi to get bitcoin data\n",
    "endpoint = 'https://min-api.cryptocompare.com/data/v2/histoday'\n",
    "response = requests.get(endpoint + '?fsym=BTC&tsym=USD&limit=500&api_key=346a5653477eed39d369f3b05523c27a427a45ab31125be8a8dbf06cf4478d49')\n",
    "dataTable = pd.DataFrame(json.loads(response.content)['Data']['Data'])\n",
    "dataTable = dataTable.set_index('time')\n",
    "dataTable.index = pd.to_datetime(dataTable.index, unit='s')\n",
    "target_col = 'close'"
   ]
  },
  {
   "cell_type": "code",
   "execution_count": 134,
   "id": "0aacce70",
   "metadata": {},
   "outputs": [],
   "source": [
    "dataTable.drop([\"conversionType\", \"conversionSymbol\"], axis = 'columns', inplace = True)"
   ]
  },
  {
   "cell_type": "code",
   "execution_count": 135,
   "id": "34863b29",
   "metadata": {},
   "outputs": [
    {
     "data": {
      "text/html": [
       "<div>\n",
       "<style scoped>\n",
       "    .dataframe tbody tr th:only-of-type {\n",
       "        vertical-align: middle;\n",
       "    }\n",
       "\n",
       "    .dataframe tbody tr th {\n",
       "        vertical-align: top;\n",
       "    }\n",
       "\n",
       "    .dataframe thead th {\n",
       "        text-align: right;\n",
       "    }\n",
       "</style>\n",
       "<table border=\"1\" class=\"dataframe\">\n",
       "  <thead>\n",
       "    <tr style=\"text-align: right;\">\n",
       "      <th></th>\n",
       "      <th>high</th>\n",
       "      <th>low</th>\n",
       "      <th>open</th>\n",
       "      <th>volumefrom</th>\n",
       "      <th>volumeto</th>\n",
       "      <th>close</th>\n",
       "    </tr>\n",
       "    <tr>\n",
       "      <th>time</th>\n",
       "      <th></th>\n",
       "      <th></th>\n",
       "      <th></th>\n",
       "      <th></th>\n",
       "      <th></th>\n",
       "      <th></th>\n",
       "    </tr>\n",
       "  </thead>\n",
       "  <tbody>\n",
       "    <tr>\n",
       "      <th>2020-05-20</th>\n",
       "      <td>9832.94</td>\n",
       "      <td>9323.82</td>\n",
       "      <td>9780.20</td>\n",
       "      <td>61892.78</td>\n",
       "      <td>5.939187e+08</td>\n",
       "      <td>9509.45</td>\n",
       "    </tr>\n",
       "    <tr>\n",
       "      <th>2020-05-21</th>\n",
       "      <td>9566.81</td>\n",
       "      <td>8811.54</td>\n",
       "      <td>9509.45</td>\n",
       "      <td>87116.97</td>\n",
       "      <td>7.982188e+08</td>\n",
       "      <td>9059.11</td>\n",
       "    </tr>\n",
       "    <tr>\n",
       "      <th>2020-05-22</th>\n",
       "      <td>9265.04</td>\n",
       "      <td>8936.82</td>\n",
       "      <td>9059.11</td>\n",
       "      <td>44400.90</td>\n",
       "      <td>4.052557e+08</td>\n",
       "      <td>9170.74</td>\n",
       "    </tr>\n",
       "    <tr>\n",
       "      <th>2020-05-23</th>\n",
       "      <td>9311.34</td>\n",
       "      <td>9101.08</td>\n",
       "      <td>9170.74</td>\n",
       "      <td>23636.66</td>\n",
       "      <td>2.178195e+08</td>\n",
       "      <td>9186.19</td>\n",
       "    </tr>\n",
       "    <tr>\n",
       "      <th>2020-05-24</th>\n",
       "      <td>9307.11</td>\n",
       "      <td>8707.14</td>\n",
       "      <td>9186.19</td>\n",
       "      <td>45736.61</td>\n",
       "      <td>4.127534e+08</td>\n",
       "      <td>8718.49</td>\n",
       "    </tr>\n",
       "  </tbody>\n",
       "</table>\n",
       "</div>"
      ],
      "text/plain": [
       "               high      low     open  volumefrom      volumeto    close\n",
       "time                                                                    \n",
       "2020-05-20  9832.94  9323.82  9780.20    61892.78  5.939187e+08  9509.45\n",
       "2020-05-21  9566.81  8811.54  9509.45    87116.97  7.982188e+08  9059.11\n",
       "2020-05-22  9265.04  8936.82  9059.11    44400.90  4.052557e+08  9170.74\n",
       "2020-05-23  9311.34  9101.08  9170.74    23636.66  2.178195e+08  9186.19\n",
       "2020-05-24  9307.11  8707.14  9186.19    45736.61  4.127534e+08  8718.49"
      ]
     },
     "execution_count": 135,
     "metadata": {},
     "output_type": "execute_result"
    }
   ],
   "source": [
    "# print first 5 \n",
    "dataTable.head(5)"
   ]
  },
  {
   "cell_type": "code",
   "execution_count": 136,
   "id": "468c8752",
   "metadata": {},
   "outputs": [
    {
     "data": {
      "text/html": [
       "<div>\n",
       "<style scoped>\n",
       "    .dataframe tbody tr th:only-of-type {\n",
       "        vertical-align: middle;\n",
       "    }\n",
       "\n",
       "    .dataframe tbody tr th {\n",
       "        vertical-align: top;\n",
       "    }\n",
       "\n",
       "    .dataframe thead th {\n",
       "        text-align: right;\n",
       "    }\n",
       "</style>\n",
       "<table border=\"1\" class=\"dataframe\">\n",
       "  <thead>\n",
       "    <tr style=\"text-align: right;\">\n",
       "      <th></th>\n",
       "      <th>high</th>\n",
       "      <th>low</th>\n",
       "      <th>open</th>\n",
       "      <th>volumefrom</th>\n",
       "      <th>volumeto</th>\n",
       "      <th>close</th>\n",
       "    </tr>\n",
       "    <tr>\n",
       "      <th>time</th>\n",
       "      <th></th>\n",
       "      <th></th>\n",
       "      <th></th>\n",
       "      <th></th>\n",
       "      <th></th>\n",
       "      <th></th>\n",
       "    </tr>\n",
       "  </thead>\n",
       "  <tbody>\n",
       "    <tr>\n",
       "      <th>2021-09-28</th>\n",
       "      <td>42781.24</td>\n",
       "      <td>40924.13</td>\n",
       "      <td>42187.51</td>\n",
       "      <td>31946.42</td>\n",
       "      <td>1.335757e+09</td>\n",
       "      <td>41056.79</td>\n",
       "    </tr>\n",
       "    <tr>\n",
       "      <th>2021-09-29</th>\n",
       "      <td>42603.18</td>\n",
       "      <td>40790.67</td>\n",
       "      <td>41056.79</td>\n",
       "      <td>26354.27</td>\n",
       "      <td>1.100253e+09</td>\n",
       "      <td>41539.43</td>\n",
       "    </tr>\n",
       "    <tr>\n",
       "      <th>2021-09-30</th>\n",
       "      <td>44106.60</td>\n",
       "      <td>41436.79</td>\n",
       "      <td>41539.43</td>\n",
       "      <td>33984.98</td>\n",
       "      <td>1.469982e+09</td>\n",
       "      <td>43829.34</td>\n",
       "    </tr>\n",
       "    <tr>\n",
       "      <th>2021-10-01</th>\n",
       "      <td>48470.13</td>\n",
       "      <td>43304.82</td>\n",
       "      <td>43829.34</td>\n",
       "      <td>53577.95</td>\n",
       "      <td>2.498576e+09</td>\n",
       "      <td>48164.35</td>\n",
       "    </tr>\n",
       "    <tr>\n",
       "      <th>2021-10-02</th>\n",
       "      <td>48244.05</td>\n",
       "      <td>47644.43</td>\n",
       "      <td>48164.35</td>\n",
       "      <td>2845.51</td>\n",
       "      <td>1.362321e+08</td>\n",
       "      <td>47856.11</td>\n",
       "    </tr>\n",
       "  </tbody>\n",
       "</table>\n",
       "</div>"
      ],
      "text/plain": [
       "                high       low      open  volumefrom      volumeto     close\n",
       "time                                                                        \n",
       "2021-09-28  42781.24  40924.13  42187.51    31946.42  1.335757e+09  41056.79\n",
       "2021-09-29  42603.18  40790.67  41056.79    26354.27  1.100253e+09  41539.43\n",
       "2021-09-30  44106.60  41436.79  41539.43    33984.98  1.469982e+09  43829.34\n",
       "2021-10-01  48470.13  43304.82  43829.34    53577.95  2.498576e+09  48164.35\n",
       "2021-10-02  48244.05  47644.43  48164.35     2845.51  1.362321e+08  47856.11"
      ]
     },
     "execution_count": 136,
     "metadata": {},
     "output_type": "execute_result"
    }
   ],
   "source": [
    "# print last 5\n",
    "dataTable.tail(5)"
   ]
  },
  {
   "cell_type": "code",
   "execution_count": 137,
   "id": "f84545cc",
   "metadata": {},
   "outputs": [],
   "source": [
    "# training 60%, validation 20%, testing 20%\n",
    "def data_split(dt, test_size=0.2, validation_size=0.25):\n",
    "    \n",
    "    remaining, test = train_test_split(dt, test_size=test_size, shuffle=False)\n",
    "    train,validation  = train_test_split(remaining, test_size=validation_size, shuffle=False) # 0.25 x 0.8 = 0.2\n",
    "    return train, validation, test"
   ]
  },
  {
   "cell_type": "code",
   "execution_count": 138,
   "id": "c85208e1",
   "metadata": {},
   "outputs": [],
   "source": [
    "train, validation, test  = data_split(dataTable, test_size=0.25, validation_size=0.2)"
   ]
  },
  {
   "cell_type": "code",
   "execution_count": 139,
   "id": "aa2e80b1",
   "metadata": {},
   "outputs": [],
   "source": [
    "def line_plot(line1, line2, line3, label1=None, label2=None, label3=None, title='', lw=2):\n",
    "    fig, ax = plt.subplots(1, figsize=(13, 7))\n",
    "    ax.plot(line1, label=label1, linewidth=lw)\n",
    "    ax.plot(line2, label=label2, linewidth=lw)\n",
    "    ax.plot(line3, label=label3, linewidth=lw)\n",
    "    ax.set_ylabel('price [USD]', fontsize=14)\n",
    "    ax.set_title(title, fontsize=16)\n",
    "    ax.legend(loc='best', fontsize=16)"
   ]
  },
  {
   "cell_type": "code",
   "execution_count": 140,
   "id": "1536a5df",
   "metadata": {},
   "outputs": [
    {
     "data": {
      "image/png": "[encoded data removed]",
      "text/plain": [
       "<Figure size 936x504 with 1 Axes>"
      ]
     },
     "metadata": {
      "needs_background": "light"
     },
     "output_type": "display_data"
    }
   ],
   "source": [
    "line_plot(train[target_col], validation[target_col], test[target_col], 'training', 'validation', 'test')"
   ]
  },
  {
   "cell_type": "code",
   "execution_count": 141,
   "id": "2ee571c1",
   "metadata": {},
   "outputs": [],
   "source": [
    "#normalizing the data\n",
    "def normalise_zero_base(dt):\n",
    "    return dt / dt.iloc[0] - 1\n",
    "\n",
    "def normalise_min_max(dt):\n",
    "    return (dt - dt.min()) / (data.max() - dt.min())"
   ]
  },
  {
   "cell_type": "code",
   "execution_count": 149,
   "id": "b3b23aa7",
   "metadata": {},
   "outputs": [],
   "source": [
    "def extract_window_data(dt, window_len=5, zero_base=True):\n",
    "    window_data = []\n",
    "    for idx in range(len(dt) - window_len):\n",
    "        tmp = dt[idx: (idx + window_len)].copy()\n",
    "        if zero_base:\n",
    "            tmp = normalise_zero_base(tmp)\n",
    "        window_data.append(tmp.values)\n",
    "    return np.array(window_data)"
   ]
  },
  {
   "cell_type": "code",
   "execution_count": 150,
   "id": "f75fb7b4",
   "metadata": {},
   "outputs": [],
   "source": [
    "def prepare_data(dt, target_col, window_len=10, zero_base=True, test_size=0.2, validation_size=0.25):\n",
    "    \n",
    "    train_d, validation_d, test_d = data_split(dt, test_size=test_size,validation_size=validation_size)\n",
    "    \n",
    "    X_train = extract_window_data(train_d, window_len, zero_base)\n",
    "    X_validation = extract_window_data(validation_d, window_len, zero_base)\n",
    "    X_test = extract_window_data(test_d, window_len, zero_base)\n",
    "    \n",
    "    y_train = train_d[target_col][window_len:].values\n",
    "    y_validation = validation_d[target_col][window_len:].values\n",
    "    y_test = test_d[target_col][window_len:].values\n",
    "    \n",
    "    if zero_base:\n",
    "        y_train = y_train / train_d[target_col][:-window_len].values - 1\n",
    "        y_validation = y_validation / validation_d[target_col][:-window_len].values - 1\n",
    "        y_test = y_test / test_d[target_col][:-window_len].values - 1\n",
    "\n",
    "    return train_d, validation_d, test_d, X_train, X_validation, X_test, y_train, y_validation, y_test"
   ]
  },
  {
   "cell_type": "code",
   "execution_count": 151,
   "id": "d5ecabfc",
   "metadata": {},
   "outputs": [],
   "source": [
    "def build_lstm_model(input_data, output_size, neurons=100, activ_func='linear',\n",
    "                     dropout=0.2, loss='mse', optimizer='adam'):\n",
    "    model = Sequential()\n",
    "    model.add(LSTM(neurons, input_shape=(input_data.shape[1], input_data.shape[2])))\n",
    "    model.add(Dropout(dropout))\n",
    "    model.add(Dense(units=output_size))\n",
    "    model.add(Activation(activ_func))\n",
    "\n",
    "    model.compile(loss=loss, optimizer=optimizer)\n",
    "    return model"
   ]
  },
  {
   "cell_type": "code",
   "execution_count": 152,
   "id": "69caeb2c",
   "metadata": {},
   "outputs": [],
   "source": [
    "np.random.seed(42)\n",
    "window_len = 5\n",
    "test_size = 0.2\n",
    "validation_size=0.25\n",
    "zero_base = True\n",
    "lstm_neurons = 100\n",
    "epochs = 20\n",
    "batch_size = 32\n",
    "loss = 'mse'\n",
    "dropout = 0.2\n",
    "optimizer = 'adam'"
   ]
  },
  {
   "cell_type": "code",
   "execution_count": 153,
   "id": "3b8772db",
   "metadata": {},
   "outputs": [],
   "source": [
    "train_d, validation_d, test_d, X_train, X_validation, X_test, y_train, y_validation, y_test = prepare_data(\n",
    "    dataTable, target_col, window_len=window_len, zero_base=zero_base, test_size=test_size, validation_size=validation_size)"
   ]
  },
  {
   "cell_type": "code",
   "execution_count": 1,
   "id": "8762d7bd",
   "metadata": {},
   "outputs": [
    {
     "ename": "NameError",
     "evalue": "name 'build_lstm_model' is not defined",
     "output_type": "error",
     "traceback": [
      "\u001b[1;31m---------------------------------------------------------------------------\u001b[0m",
      "\u001b[1;31mNameError\u001b[0m                                 Traceback (most recent call last)",
      "\u001b[1;32m<ipython-input-1-fe7b974bd5f9>\u001b[0m in \u001b[0;36m<module>\u001b[1;34m\u001b[0m\n\u001b[1;32m----> 1\u001b[1;33m \u001b[0mmodel\u001b[0m \u001b[1;33m=\u001b[0m \u001b[0mbuild_lstm_model\u001b[0m\u001b[1;33m(\u001b[0m\u001b[0mX_train\u001b[0m\u001b[1;33m,\u001b[0m \u001b[0moutput_size\u001b[0m\u001b[1;33m=\u001b[0m\u001b[1;36m1\u001b[0m\u001b[1;33m,\u001b[0m \u001b[0mneurons\u001b[0m\u001b[1;33m=\u001b[0m\u001b[0mlstm_neurons\u001b[0m\u001b[1;33m,\u001b[0m \u001b[0mdropout\u001b[0m\u001b[1;33m=\u001b[0m\u001b[0mdropout\u001b[0m\u001b[1;33m,\u001b[0m \u001b[0mloss\u001b[0m\u001b[1;33m=\u001b[0m\u001b[0mloss\u001b[0m\u001b[1;33m,\u001b[0m \u001b[0moptimizer\u001b[0m\u001b[1;33m=\u001b[0m\u001b[0moptimizer\u001b[0m\u001b[1;33m)\u001b[0m\u001b[1;33m\u001b[0m\u001b[1;33m\u001b[0m\u001b[0m\n\u001b[0m\u001b[0;32m      2\u001b[0m \u001b[0mhistory\u001b[0m \u001b[1;33m=\u001b[0m \u001b[0mmodel\u001b[0m\u001b[1;33m.\u001b[0m\u001b[0mfit\u001b[0m\u001b[1;33m(\u001b[0m\u001b[0mX_train\u001b[0m\u001b[1;33m,\u001b[0m \u001b[0my_train\u001b[0m\u001b[1;33m,\u001b[0m \u001b[0my_validation\u001b[0m\u001b[1;33m,\u001b[0m \u001b[0mepochs\u001b[0m\u001b[1;33m=\u001b[0m\u001b[0mepochs\u001b[0m\u001b[1;33m,\u001b[0m \u001b[0mbatch_size\u001b[0m\u001b[1;33m=\u001b[0m\u001b[0mbatch_size\u001b[0m\u001b[1;33m,\u001b[0m \u001b[0mverbose\u001b[0m\u001b[1;33m=\u001b[0m\u001b[1;36m1\u001b[0m\u001b[1;33m,\u001b[0m \u001b[0mshuffle\u001b[0m\u001b[1;33m=\u001b[0m\u001b[1;32mTrue\u001b[0m\u001b[1;33m)\u001b[0m\u001b[1;33m\u001b[0m\u001b[1;33m\u001b[0m\u001b[0m\n",
      "\u001b[1;31mNameError\u001b[0m: name 'build_lstm_model' is not defined"
     ]
    }
   ],
   "source": [
    "model = build_lstm_model(X_train, output_size=1, neurons=lstm_neurons, dropout=dropout, loss=loss, optimizer=optimizer)\n",
    "history = model.fit(X_train, y_train, y_validation, epochs=epochs, batch_size=batch_size, verbose=1, shuffle=True)"
   ]
  },
  {
   "cell_type": "code",
   "execution_count": null,
   "id": "d52cea6a",
   "metadata": {},
   "outputs": [],
   "source": [
    "import matplotlib.pyplot as plt\n",
    "plt.plot(history.history['loss'],'r',linewidth=2, label='Train loss')\n",
    "plt.plot(history.history['val_loss'], 'g',linewidth=2, label='Validation loss')\n",
    "plt.title('LSTM')\n",
    "plt.xlabel('Epochs')\n",
    "plt.ylabel('MSE')\n",
    "plt.show()"
   ]
  },
  {
   "cell_type": "code",
   "execution_count": null,
   "id": "cd28e38a",
   "metadata": {},
   "outputs": [],
   "source": [
    "targets = test[target_col][window_len:]\n",
    "preds = model.predict(X_test).squeeze()\n",
    "mean_absolute_error(preds, y_test)"
   ]
  },
  {
   "cell_type": "code",
   "execution_count": null,
   "id": "d200137f",
   "metadata": {},
   "outputs": [],
   "source": [
    "from sklearn.metrics import mean_squared_error\n",
    "MAE=mean_squared_error(preds, y_test)\n",
    "MAE"
   ]
  },
  {
   "cell_type": "code",
   "execution_count": null,
   "id": "f5addc9b",
   "metadata": {},
   "outputs": [],
   "source": [
    "from sklearn.metrics import r2_score\n",
    "R2=r2_score(y_test, preds)\n",
    "R2"
   ]
  },
  {
   "cell_type": "code",
   "execution_count": null,
   "id": "82c729d0",
   "metadata": {},
   "outputs": [],
   "source": [
    "preds = test[target_col].values[:-window_len] * (preds + 1)\n",
    "preds = pd.Series(index=targets.index, data=preds)\n",
    "line_plot(targets, preds, 'actual', 'prediction', lw=3)"
   ]
  }
 ],
 "metadata": {
  "kernelspec": {
   "display_name": "Python 3",
   "language": "python",
   "name": "python3"
  },
  "language_info": {
   "codemirror_mode": {
    "name": "ipython",
    "version": 3
   },
   "file_extension": ".py",
   "mimetype": "text/x-python",
   "name": "python",
   "nbconvert_exporter": "python",
   "pygments_lexer": "ipython3",
   "version": "3.8.8"
  }
 },
 "nbformat": 4,
 "nbformat_minor": 5
}
