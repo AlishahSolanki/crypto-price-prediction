{
 "cells": [
  {
   "cell_type": "code",
   "execution_count": 5,
   "id": "759e14c9",
   "metadata": {},
   "outputs": [],
   "source": [
    "# All Imports\n",
    "import tensorflow as tf\n",
    "import json\n",
    "import requests\n",
    "from keras.models import Sequential\n",
    "from keras.layers import Activation, Dense, Dropout, LSTM\n",
    "import matplotlib.pyplot as plt\n",
    "import numpy as np\n",
    "import pandas as pd\n",
    "import seaborn as sns\n",
    "from sklearn.metrics import mean_absolute_error\n",
    "%matplotlib inline\n",
    "from sklearn.model_selection import train_test_split\n"
   ]
  },
  {
   "cell_type": "code",
   "execution_count": 102,
   "id": "9b5b472a",
   "metadata": {},
   "outputs": [],
   "source": [
    "# Coincap aoi to get bitcoin data\n",
    "endpoint = 'https://min-api.cryptocompare.com/data/v2/histoday'\n",
    "response = requests.get(endpoint + '?fsym=BTC&tsym=USD&limit=1999&api_key=346a5653477eed39d369f3b05523c27a427a45ab31125be8a8dbf06cf4478d49')\n",
    "dataTable = pd.DataFrame(json.loads(response.content)['Data']['Data'])\n",
    "dataTable = dataTable.set_index('time')\n",
    "dataTable.index = pd.to_datetime(dataTable.index, unit='s')\n",
    "target_col = 'close'"
   ]
  },
  {
   "cell_type": "code",
   "execution_count": 103,
   "id": "0aacce70",
   "metadata": {},
   "outputs": [],
   "source": [
    "dataTable.drop([\"conversionType\", \"conversionSymbol\"], axis = 'columns', inplace = True)"
   ]
  },
  {
   "cell_type": "code",
   "execution_count": 104,
   "id": "34863b29",
   "metadata": {},
   "outputs": [
    {
     "data": {
      "text/html": [
       "<div>\n",
       "<style scoped>\n",
       "    .dataframe tbody tr th:only-of-type {\n",
       "        vertical-align: middle;\n",
       "    }\n",
       "\n",
       "    .dataframe tbody tr th {\n",
       "        vertical-align: top;\n",
       "    }\n",
       "\n",
       "    .dataframe thead th {\n",
       "        text-align: right;\n",
       "    }\n",
       "</style>\n",
       "<table border=\"1\" class=\"dataframe\">\n",
       "  <thead>\n",
       "    <tr style=\"text-align: right;\">\n",
       "      <th></th>\n",
       "      <th>high</th>\n",
       "      <th>low</th>\n",
       "      <th>open</th>\n",
       "      <th>volumefrom</th>\n",
       "      <th>volumeto</th>\n",
       "      <th>close</th>\n",
       "    </tr>\n",
       "    <tr>\n",
       "      <th>time</th>\n",
       "      <th></th>\n",
       "      <th></th>\n",
       "      <th></th>\n",
       "      <th></th>\n",
       "      <th></th>\n",
       "      <th></th>\n",
       "    </tr>\n",
       "  </thead>\n",
       "  <tbody>\n",
       "    <tr>\n",
       "      <th>2016-04-13</th>\n",
       "      <td>426.58</td>\n",
       "      <td>421.41</td>\n",
       "      <td>424.74</td>\n",
       "      <td>38088.60</td>\n",
       "      <td>16183793.93</td>\n",
       "      <td>423.47</td>\n",
       "    </tr>\n",
       "    <tr>\n",
       "      <th>2016-04-14</th>\n",
       "      <td>425.44</td>\n",
       "      <td>421.84</td>\n",
       "      <td>423.47</td>\n",
       "      <td>30664.40</td>\n",
       "      <td>13038970.54</td>\n",
       "      <td>424.02</td>\n",
       "    </tr>\n",
       "    <tr>\n",
       "      <th>2016-04-15</th>\n",
       "      <td>429.49</td>\n",
       "      <td>423.25</td>\n",
       "      <td>424.02</td>\n",
       "      <td>54119.98</td>\n",
       "      <td>23214560.10</td>\n",
       "      <td>428.67</td>\n",
       "    </tr>\n",
       "    <tr>\n",
       "      <th>2016-04-16</th>\n",
       "      <td>432.00</td>\n",
       "      <td>426.84</td>\n",
       "      <td>428.67</td>\n",
       "      <td>29021.18</td>\n",
       "      <td>12517265.78</td>\n",
       "      <td>430.05</td>\n",
       "    </tr>\n",
       "    <tr>\n",
       "      <th>2016-04-17</th>\n",
       "      <td>430.62</td>\n",
       "      <td>423.79</td>\n",
       "      <td>430.05</td>\n",
       "      <td>25586.86</td>\n",
       "      <td>10980868.31</td>\n",
       "      <td>426.26</td>\n",
       "    </tr>\n",
       "  </tbody>\n",
       "</table>\n",
       "</div>"
      ],
      "text/plain": [
       "              high     low    open  volumefrom     volumeto   close\n",
       "time                                                               \n",
       "2016-04-13  426.58  421.41  424.74    38088.60  16183793.93  423.47\n",
       "2016-04-14  425.44  421.84  423.47    30664.40  13038970.54  424.02\n",
       "2016-04-15  429.49  423.25  424.02    54119.98  23214560.10  428.67\n",
       "2016-04-16  432.00  426.84  428.67    29021.18  12517265.78  430.05\n",
       "2016-04-17  430.62  423.79  430.05    25586.86  10980868.31  426.26"
      ]
     },
     "execution_count": 104,
     "metadata": {},
     "output_type": "execute_result"
    }
   ],
   "source": [
    "# print first 5 \n",
    "dataTable.head(5)"
   ]
  },
  {
   "cell_type": "code",
   "execution_count": 214,
   "id": "468c8752",
   "metadata": {},
   "outputs": [
    {
     "data": {
      "text/html": [
       "<div>\n",
       "<style scoped>\n",
       "    .dataframe tbody tr th:only-of-type {\n",
       "        vertical-align: middle;\n",
       "    }\n",
       "\n",
       "    .dataframe tbody tr th {\n",
       "        vertical-align: top;\n",
       "    }\n",
       "\n",
       "    .dataframe thead th {\n",
       "        text-align: right;\n",
       "    }\n",
       "</style>\n",
       "<table border=\"1\" class=\"dataframe\">\n",
       "  <thead>\n",
       "    <tr style=\"text-align: right;\">\n",
       "      <th></th>\n",
       "      <th>high</th>\n",
       "      <th>low</th>\n",
       "      <th>open</th>\n",
       "      <th>volumefrom</th>\n",
       "      <th>volumeto</th>\n",
       "      <th>close</th>\n",
       "    </tr>\n",
       "    <tr>\n",
       "      <th>time</th>\n",
       "      <th></th>\n",
       "      <th></th>\n",
       "      <th></th>\n",
       "      <th></th>\n",
       "      <th></th>\n",
       "      <th></th>\n",
       "    </tr>\n",
       "  </thead>\n",
       "  <tbody>\n",
       "    <tr>\n",
       "      <th>2021-09-29</th>\n",
       "      <td>42603.18</td>\n",
       "      <td>40790.67</td>\n",
       "      <td>41056.79</td>\n",
       "      <td>26354.27</td>\n",
       "      <td>1.100253e+09</td>\n",
       "      <td>41539.43</td>\n",
       "    </tr>\n",
       "    <tr>\n",
       "      <th>2021-09-30</th>\n",
       "      <td>44106.60</td>\n",
       "      <td>41436.79</td>\n",
       "      <td>41539.43</td>\n",
       "      <td>33984.98</td>\n",
       "      <td>1.469982e+09</td>\n",
       "      <td>43829.34</td>\n",
       "    </tr>\n",
       "    <tr>\n",
       "      <th>2021-10-01</th>\n",
       "      <td>48470.13</td>\n",
       "      <td>43304.82</td>\n",
       "      <td>43829.34</td>\n",
       "      <td>53577.95</td>\n",
       "      <td>2.498576e+09</td>\n",
       "      <td>48164.35</td>\n",
       "    </tr>\n",
       "    <tr>\n",
       "      <th>2021-10-02</th>\n",
       "      <td>48347.69</td>\n",
       "      <td>47468.49</td>\n",
       "      <td>48164.35</td>\n",
       "      <td>16062.18</td>\n",
       "      <td>7.690222e+08</td>\n",
       "      <td>47669.02</td>\n",
       "    </tr>\n",
       "    <tr>\n",
       "      <th>2021-10-03</th>\n",
       "      <td>48013.91</td>\n",
       "      <td>47137.07</td>\n",
       "      <td>47669.02</td>\n",
       "      <td>3868.25</td>\n",
       "      <td>1.839579e+08</td>\n",
       "      <td>47944.24</td>\n",
       "    </tr>\n",
       "  </tbody>\n",
       "</table>\n",
       "</div>"
      ],
      "text/plain": [
       "                high       low      open  volumefrom      volumeto     close\n",
       "time                                                                        \n",
       "2021-09-29  42603.18  40790.67  41056.79    26354.27  1.100253e+09  41539.43\n",
       "2021-09-30  44106.60  41436.79  41539.43    33984.98  1.469982e+09  43829.34\n",
       "2021-10-01  48470.13  43304.82  43829.34    53577.95  2.498576e+09  48164.35\n",
       "2021-10-02  48347.69  47468.49  48164.35    16062.18  7.690222e+08  47669.02\n",
       "2021-10-03  48013.91  47137.07  47669.02     3868.25  1.839579e+08  47944.24"
      ]
     },
     "execution_count": 214,
     "metadata": {},
     "output_type": "execute_result"
    }
   ],
   "source": [
    "# print last 5\n",
    "dataTable.tail(5)"
   ]
  },
  {
   "cell_type": "code",
   "execution_count": 215,
   "id": "f84545cc",
   "metadata": {},
   "outputs": [],
   "source": [
    "# training 60%, validation 20%, testing 20%\n",
    "def data_split(dt, test_size=0.2, validation_size=0.25):\n",
    "    remaining, test = train_test_split(dt, test_size=test_size, shuffle=False)\n",
    "    train,validation  = train_test_split(remaining, test_size=validation_size, shuffle=False) # 0.25 x 0.8 = 0.2\n",
    "    return train, validation, test"
   ]
  },
  {
   "cell_type": "code",
   "execution_count": 234,
   "id": "c85208e1",
   "metadata": {},
   "outputs": [
    {
     "name": "stdout",
     "output_type": "stream",
     "text": [
      "                high       low      open  volumefrom      volumeto     close\n",
      "time                                                                        \n",
      "2020-08-30  11718.98  11470.07  11480.48    16398.78  1.906494e+08  11716.54\n",
      "2020-08-31  11775.27  11586.36  11716.54    26331.03  3.079266e+08  11657.81\n",
      "2020-09-01  12062.06  11540.42  11657.81    45202.86  5.372923e+08  11926.69\n",
      "2020-09-02  11954.28  11219.19  11926.69    53717.87  6.181293e+08  11397.90\n",
      "2020-09-03  11469.20  10017.43  11397.90    82662.97  8.947367e+08  10174.62\n",
      "...              ...       ...       ...         ...           ...       ...\n",
      "2021-09-29  42603.18  40790.67  41056.79    26354.27  1.100253e+09  41539.43\n",
      "2021-09-30  44106.60  41436.79  41539.43    33984.98  1.469982e+09  43829.34\n",
      "2021-10-01  48470.13  43304.82  43829.34    53577.95  2.498576e+09  48164.35\n",
      "2021-10-02  48347.69  47468.49  48164.35    16062.18  7.690222e+08  47669.02\n",
      "2021-10-03  48013.91  47137.07  47669.02     3868.25  1.839579e+08  47944.24\n",
      "\n",
      "[400 rows x 6 columns]\n"
     ]
    }
   ],
   "source": [
    "train, validation, test  = data_split(dataTable, test_size=0.2, validation_size=0.25)"
   ]
  },
  {
   "cell_type": "code",
   "execution_count": 217,
   "id": "aa2e80b1",
   "metadata": {},
   "outputs": [],
   "source": [
    "def line_plot(line1, line2, line3, label1=None, label2=None, label3=None, title='', lw=2):\n",
    "    fig, ax = plt.subplots(1, figsize=(13, 7))\n",
    "    ax.plot(line1, label=label1, linewidth=lw)\n",
    "    ax.plot(line2, label=label2, linewidth=lw)\n",
    "    ax.plot(line3, label=label3, linewidth=lw)\n",
    "    ax.set_ylabel('price [USD]', fontsize=14)\n",
    "    ax.set_title(title, fontsize=16)\n",
    "    ax.legend(loc='best', fontsize=16)"
   ]
  },
  {
   "cell_type": "code",
   "execution_count": 218,
   "id": "1536a5df",
   "metadata": {},
   "outputs": [
    {
     "data": {
      "image/png": "[encoded data removed]",
      "text/plain": [
       "<Figure size 936x504 with 1 Axes>"
      ]
     },
     "metadata": {
      "needs_background": "light"
     },
     "output_type": "display_data"
    }
   ],
   "source": [
    "line_plot(train[target_col], validation[target_col], test[target_col], 'training', 'validation', 'test')"
   ]
  },
  {
   "cell_type": "code",
   "execution_count": 219,
   "id": "2ee571c1",
   "metadata": {},
   "outputs": [],
   "source": [
    "#normalizing the data\n",
    "def normalise_zero_base(dt):\n",
    "    return dt / dt.iloc[0] - 1\n",
    "\n",
    "def normalise_min_max(dt):\n",
    "    return (dt - dt.min()) / (dt.max() - dt.min())"
   ]
  },
  {
   "cell_type": "code",
   "execution_count": 293,
   "id": "b3b23aa7",
   "metadata": {},
   "outputs": [],
   "source": [
    "def extract_window_data(dt, window_len=5, zero_base=True):\n",
    "    window_data = []\n",
    "#     print(dt.values)\n",
    "    for idx in range(len(dt) - window_len):\n",
    "        tmp = dt[idx: (idx + window_len)].copy()\n",
    "#         if zero_base:\n",
    "#             tmp = normalise_min_max(tmp) \n",
    "        print(\"idx\",idx, tmp.values,tmp)\n",
    "\n",
    "        window_data.append(tmp.values)\n",
    "    return np.array(window_data)"
   ]
  },
  {
   "cell_type": "code",
   "execution_count": 294,
   "id": "f75fb7b4",
   "metadata": {},
   "outputs": [],
   "source": [
    "def prepare_data(dt, target_col, window_len=10, zero_base=True, test_size=0.2, validation_size=0.25):\n",
    "    \n",
    "    train_d, validation_d, test_d = data_split(dt, test_size=test_size,validation_size=validation_size)\n",
    "#     print(test_d)\n",
    "    X_train = extract_window_data(train_d, window_len, zero_base)\n",
    "    X_validation = extract_window_data(validation_d, window_len, zero_base)\n",
    "    X_test = extract_window_data(test_d, window_len, zero_base)\n",
    "#     print(\"X_test\",X_test)\n",
    "    y_train = train_d[target_col][window_len:].values\n",
    "    y_validation = validation_d[target_col][window_len:].values\n",
    "    y_test = test_d[target_col][window_len:].values\n",
    "#     print(\"y_test\",y_test)\n",
    "    if zero_base:\n",
    "        y_train = y_train / train_d[target_col][:-window_len].values - 1\n",
    "        y_validation = y_validation / validation_d[target_col][:-window_len].values - 1\n",
    "        y_test = y_test / test_d[target_col][:-window_len].values - 1\n",
    "\n",
    "    return train_d, validation_d, test_d, X_train, X_validation, X_test, y_train, y_validation, y_test"
   ]
  },
  {
   "cell_type": "code",
   "execution_count": 295,
   "id": "d5ecabfc",
   "metadata": {},
   "outputs": [],
   "source": [
    "def build_lstm_model(input_data, output_size, neurons=100, activ_func='linear',\n",
    "                     dropout=0.2, loss='mse', optimizer='adam'):\n",
    "    model = Sequential()\n",
    "    model.add(LSTM(neurons, input_shape=(input_data.shape[1], input_data.shape[2])))\n",
    "    model.add(Dropout(dropout))\n",
    "    model.add(Dense(units=output_size))\n",
    "    model.add(Activation(activ_func))\n",
    "\n",
    "    model.compile(loss=loss, optimizer=optimizer)\n",
    "    return model"
   ]
  },
  {
   "cell_type": "code",
   "execution_count": 296,
   "id": "69caeb2c",
   "metadata": {},
   "outputs": [],
   "source": [
    "np.random.seed(42)\n",
    "window_len = 5\n",
    "test_size = 0.2\n",
    "validation_size=0.25\n",
    "zero_base = True\n",
    "lstm_neurons = 100\n",
    "epochs = 20\n",
    "batch_size = 32\n",
    "loss = 'mse'\n",
    "dropout = 0.2\n",
    "optimizer = 'adam'"
   ]
  },
  {
   "cell_type": "code",
   "execution_count": 297,
   "id": "3b8772db",
   "metadata": {},
   "outputs": [
    {
     "name": "stdout",
     "output_type": "stream",
     "text": [
      "range range(0, 1195)\n",
      "range range(0, 395)\n",
      "range range(0, 395)\n"
     ]
    }
   ],
   "source": [
    "train_d, validation_d, test_d, X_train, X_validation, X_test, y_train, y_validation, y_test = prepare_data(\n",
    "    dataTable, target_col, window_len=window_len, zero_base=zero_base, test_size=test_size, validation_size=validation_size)"
   ]
  },
  {
   "cell_type": "code",
   "execution_count": 225,
   "id": "8762d7bd",
   "metadata": {},
   "outputs": [
    {
     "name": "stdout",
     "output_type": "stream",
     "text": [
      "Epoch 1/20\n",
      "38/38 [==============================] - 1s 22ms/step - loss: 0.1145 - val_loss: 0.0068\n",
      "Epoch 2/20\n",
      "38/38 [==============================] - 0s 6ms/step - loss: 0.0920 - val_loss: 0.0066\n",
      "Epoch 3/20\n",
      "38/38 [==============================] - 0s 6ms/step - loss: 0.0783 - val_loss: 0.0074\n",
      "Epoch 4/20\n",
      "38/38 [==============================] - 0s 6ms/step - loss: 0.0628 - val_loss: 0.0068\n",
      "Epoch 5/20\n",
      "38/38 [==============================] - 0s 6ms/step - loss: 0.0597 - val_loss: 0.0076\n",
      "Epoch 6/20\n",
      "38/38 [==============================] - 0s 6ms/step - loss: 0.0532 - val_loss: 0.0076\n",
      "Epoch 7/20\n",
      "38/38 [==============================] - 0s 6ms/step - loss: 0.0443 - val_loss: 0.0066\n",
      "Epoch 8/20\n",
      "38/38 [==============================] - 0s 7ms/step - loss: 0.0367 - val_loss: 0.0068\n",
      "Epoch 9/20\n",
      "38/38 [==============================] - 0s 6ms/step - loss: 0.0315 - val_loss: 0.0069\n",
      "Epoch 10/20\n",
      "38/38 [==============================] - 0s 6ms/step - loss: 0.0268 - val_loss: 0.0069\n",
      "Epoch 11/20\n",
      "38/38 [==============================] - 0s 6ms/step - loss: 0.0236 - val_loss: 0.0067\n",
      "Epoch 12/20\n",
      "38/38 [==============================] - 0s 6ms/step - loss: 0.0197 - val_loss: 0.0066\n",
      "Epoch 13/20\n",
      "38/38 [==============================] - 0s 7ms/step - loss: 0.0169 - val_loss: 0.0075\n",
      "Epoch 14/20\n",
      "38/38 [==============================] - 0s 6ms/step - loss: 0.0153 - val_loss: 0.0069\n",
      "Epoch 15/20\n",
      "38/38 [==============================] - 0s 6ms/step - loss: 0.0137 - val_loss: 0.0067\n",
      "Epoch 16/20\n",
      "38/38 [==============================] - 0s 6ms/step - loss: 0.0127 - val_loss: 0.0067\n",
      "Epoch 17/20\n",
      "38/38 [==============================] - 0s 7ms/step - loss: 0.0114 - val_loss: 0.0067\n",
      "Epoch 18/20\n",
      "38/38 [==============================] - 0s 6ms/step - loss: 0.0109 - val_loss: 0.0068\n",
      "Epoch 19/20\n",
      "38/38 [==============================] - 0s 6ms/step - loss: 0.0105 - val_loss: 0.0066\n",
      "Epoch 20/20\n",
      "38/38 [==============================] - 0s 6ms/step - loss: 0.0103 - val_loss: 0.0066\n"
     ]
    }
   ],
   "source": [
    "model = build_lstm_model(X_train, output_size=1, neurons=lstm_neurons, dropout=dropout, loss=loss, optimizer=optimizer)\n",
    "\n",
    "history = model.fit(X_train, y_train, validation_data=(X_validation, y_validation), epochs=epochs, batch_size=batch_size, verbose=1, shuffle=True)"
   ]
  },
  {
   "cell_type": "code",
   "execution_count": 226,
   "id": "d52cea6a",
   "metadata": {},
   "outputs": [
    {
     "data": {
      "image/png": "[encoded data removed]",
      "text/plain": [
       "<Figure size 432x288 with 1 Axes>"
      ]
     },
     "metadata": {
      "needs_background": "light"
     },
     "output_type": "display_data"
    }
   ],
   "source": [
    "import matplotlib.pyplot as plt\n",
    "plt.plot(history.history['loss'],'r',linewidth=2, label='Train loss')\n",
    "plt.plot(history.history['val_loss'], 'g',linewidth=2, label='Validation loss')\n",
    "plt.title('LSTM')\n",
    "plt.xlabel('Epochs')\n",
    "plt.ylabel('MSE')\n",
    "plt.show()"
   ]
  },
  {
   "cell_type": "code",
   "execution_count": 227,
   "id": "a1b4bc09",
   "metadata": {},
   "outputs": [
    {
     "name": "stdout",
     "output_type": "stream",
     "text": [
      "13/13 [==============================] - 0s 3ms/step - loss: 0.0085\n",
      "test loss, test acc: 0.008472726680338383\n"
     ]
    }
   ],
   "source": [
    "results = model.evaluate(X_test, y_test, batch_size=batch_size)\n",
    "print(\"test loss, test acc:\", results)"
   ]
  },
  {
   "cell_type": "code",
   "execution_count": 233,
   "id": "cd28e38a",
   "metadata": {},
   "outputs": [
    {
     "name": "stdout",
     "output_type": "stream",
     "text": [
      "[0.01309722 0.01309722 0.01309722 0.01309722 0.01309722 0.01309722\n",
      " 0.01309722 0.01309722 0.01309722 0.01309722 0.01309722 0.01309722\n",
      " 0.01309722 0.01309722 0.01309722 0.01309722 0.01309722 0.01309722\n",
      " 0.01309722 0.01309722 0.01309722 0.01309722 0.01309722 0.01309722\n",
      " 0.01309722 0.01309722 0.01309722 0.01309722 0.01309722 0.01309722\n",
      " 0.01309722 0.01309722 0.01309722 0.01309722 0.01309722 0.01309722\n",
      " 0.01309722 0.01309722 0.01309722 0.01309722 0.01309722 0.01309722\n",
      " 0.01309722 0.01309722 0.01309722 0.01309722 0.01309722 0.01309722\n",
      " 0.01309722 0.01309722 0.01309722 0.01309722 0.01309722 0.01309722\n",
      " 0.01309722 0.01309722 0.01309722 0.01309722 0.01309722 0.01309722\n",
      " 0.01309722 0.01309722 0.01309722 0.01309722 0.01309722 0.01309722\n",
      " 0.01309722 0.01309722 0.01309722 0.01309722 0.01309722 0.01309722\n",
      " 0.01309722 0.01309722 0.01309722 0.01309722 0.01309722 0.01309722\n",
      " 0.01309722 0.01309722 0.01309722 0.01309722 0.01309722 0.01309722\n",
      " 0.01309722 0.01309722 0.01309722 0.01309722 0.01309722 0.01309722\n",
      " 0.01309722 0.01309722 0.01309722 0.01309722 0.01309722 0.01309722\n",
      " 0.01309722 0.01309722 0.01309722 0.01309722 0.01309722 0.01309722\n",
      " 0.01309722 0.01309722 0.01309722 0.01309722 0.01309722 0.01309722\n",
      " 0.01309722 0.01309722 0.01309722 0.01309722 0.01309722 0.01309722\n",
      " 0.01309722 0.01309722 0.01309722 0.01309722 0.01309722 0.01309722\n",
      " 0.01309722 0.01309722 0.01309722 0.01309722 0.01309722 0.01309722\n",
      " 0.01309722 0.01309722 0.01309722 0.01309722 0.01309722 0.01309722\n",
      " 0.01309722 0.01309722 0.01309722 0.01309722 0.01309722 0.01309722\n",
      " 0.01309722 0.01309722 0.01309722 0.01309722 0.01309722 0.01309722\n",
      " 0.01309722 0.01309722 0.01309722 0.01309722 0.01309722 0.01309722\n",
      " 0.01309722 0.01309722 0.01309722 0.01309722 0.01309722 0.01309722\n",
      " 0.01309722 0.01309722 0.01309722 0.01309722 0.01309722 0.01309722\n",
      " 0.01309722 0.01309722 0.01309722 0.01309722 0.01309722 0.01309722\n",
      " 0.01309722 0.01309722 0.01309722 0.01309722 0.01309722 0.01309722\n",
      " 0.01309722 0.01309722 0.01309722 0.01309722 0.01309722 0.01309722\n",
      " 0.01309722 0.01309722 0.01309722 0.01309722 0.01309722 0.01309722\n",
      " 0.01309722 0.01309722 0.01309722 0.01309722 0.01309722 0.01309722\n",
      " 0.01309722 0.01309722 0.01309722 0.01309722 0.01309722 0.01309722\n",
      " 0.01309722 0.01309722 0.01309722 0.01309722 0.01309722 0.01309722\n",
      " 0.01309722 0.01309722 0.01309722 0.01309722 0.01309722 0.01309722\n",
      " 0.01309722 0.01309722 0.01309722 0.01309722 0.01309722 0.01309722\n",
      " 0.01309722 0.01309722 0.01309722 0.01309722 0.01309722 0.01309722\n",
      " 0.01309722 0.01309722 0.01309722 0.01309722 0.01309722 0.01309722\n",
      " 0.01309722 0.01309722 0.01309722 0.01309722 0.01309722 0.01309722\n",
      " 0.01309722 0.01309722 0.01309722 0.01309722 0.01309722 0.01309722\n",
      " 0.01309722 0.01309722 0.01309722 0.01309722 0.01309722 0.01309722\n",
      " 0.01309722 0.01309722 0.01309722 0.01309722 0.01309722 0.01309722\n",
      " 0.01309722 0.01309722 0.01309722 0.01309722 0.01309722 0.01309722\n",
      " 0.01309722 0.01309722 0.01309722 0.01309722 0.01309722 0.01309722\n",
      " 0.01309722 0.01309722 0.01309722 0.01309722 0.01309722 0.01309722\n",
      " 0.01309722 0.01309722 0.01309722 0.01309722 0.01309722 0.01309722\n",
      " 0.01309722 0.01309722 0.01309722 0.01309722 0.01309722 0.01309722\n",
      " 0.01309722 0.01309722 0.01309722 0.01309722 0.01309722 0.01309722\n",
      " 0.01309722 0.01309722 0.01309722 0.01309722 0.01309722 0.01309722\n",
      " 0.01309722 0.01309722 0.01309722 0.01309722 0.01309722 0.01309722\n",
      " 0.01309722 0.01309722 0.01309722 0.01309722 0.01309722 0.01309722\n",
      " 0.01309722 0.01309722 0.01309722 0.01309722 0.01309722 0.01309722\n",
      " 0.01309722 0.01309722 0.01309722 0.01309722 0.01309722 0.01309722\n",
      " 0.01309722 0.01309722 0.01309722 0.01309722 0.01309722 0.01309722\n",
      " 0.01309722 0.01309722 0.01309722 0.01309722 0.01309722 0.01309722\n",
      " 0.01309722 0.01309722 0.01309722 0.01309722 0.01309722 0.01309722\n",
      " 0.01309722 0.01309722 0.01309722 0.01309722 0.01309722 0.01309722\n",
      " 0.01309722 0.01309722 0.01309722 0.01309722 0.01309722 0.01309722\n",
      " 0.01309722 0.01309722 0.01309722 0.01309722 0.01309722 0.01309722\n",
      " 0.01309722 0.01309722 0.01309722 0.01309722 0.01309722 0.01309722\n",
      " 0.01309722 0.01309722 0.01309722 0.01309722 0.01309722 0.01309722\n",
      " 0.01309722 0.01309722 0.01309722 0.01309722 0.01309722 0.01309722\n",
      " 0.01309722 0.01309722 0.01309722 0.01309722 0.01309722 0.01309722\n",
      " 0.01309722 0.01309722 0.01309722 0.01309722 0.01309722 0.01309722\n",
      " 0.01309722 0.01309722 0.01309722 0.01309722 0.01309722 0.01309722\n",
      " 0.01309722 0.01309722 0.01309722 0.01309722 0.01309722]\n"
     ]
    },
    {
     "data": {
      "text/plain": [
       "0.07127920690913432"
      ]
     },
     "execution_count": 233,
     "metadata": {},
     "output_type": "execute_result"
    }
   ],
   "source": [
    "targets = test[target_col][window_len:]\n",
    "preds = model.predict(X_test).squeeze()\n",
    "mean_absolute_error(preds, y_test)"
   ]
  },
  {
   "cell_type": "code",
   "execution_count": 229,
   "id": "d200137f",
   "metadata": {},
   "outputs": [
    {
     "data": {
      "text/plain": [
       "0.008472725948987053"
      ]
     },
     "execution_count": 229,
     "metadata": {},
     "output_type": "execute_result"
    }
   ],
   "source": [
    "from sklearn.metrics import mean_squared_error\n",
    "MAE=mean_squared_error(preds, y_test)\n",
    "MAE"
   ]
  },
  {
   "cell_type": "code",
   "execution_count": 230,
   "id": "f5addc9b",
   "metadata": {},
   "outputs": [
    {
     "data": {
      "text/plain": [
       "-0.009300022339212122"
      ]
     },
     "execution_count": 230,
     "metadata": {},
     "output_type": "execute_result"
    }
   ],
   "source": [
    "from sklearn.metrics import r2_score\n",
    "R2=r2_score(y_test, preds)\n",
    "R2"
   ]
  },
  {
   "cell_type": "code",
   "execution_count": 231,
   "id": "82c729d0",
   "metadata": {},
   "outputs": [
    {
     "data": {
      "text/plain": [
       "<matplotlib.legend.Legend at 0x1c81b6b7340>"
      ]
     },
     "execution_count": 231,
     "metadata": {},
     "output_type": "execute_result"
    },
    {
     "data": {
      "image/png": "[encoded data removed]",
      "text/plain": [
       "<Figure size 936x504 with 1 Axes>"
      ]
     },
     "metadata": {
      "needs_background": "light"
     },
     "output_type": "display_data"
    }
   ],
   "source": [
    "preds = test[target_col].values[:-window_len] * (preds + 1)\n",
    "preds = pd.Series(index=targets.index, data=preds)\n",
    "fig, ax = plt.subplots(1, figsize=(13, 7))\n",
    "ax.plot(targets, label='actual', linewidth=3)\n",
    "ax.plot(preds, label='prediction', linewidth=3)\n",
    "ax.set_ylabel('price [USD]', fontsize=14)\n",
    "ax.set_title(\"\", fontsize=16)\n",
    "ax.legend(loc='best', fontsize=16)\n",
    "# line_plot(targets, preds, 'actual', 'prediction', lw=3)"
   ]
  },
  {
   "cell_type": "code",
   "execution_count": null,
   "id": "153e2f2b",
   "metadata": {},
   "outputs": [],
   "source": []
  }
 ],
 "metadata": {
  "kernelspec": {
   "display_name": "Python 3 (ipykernel)",
   "language": "python",
   "name": "python3"
  },
  "language_info": {
   "codemirror_mode": {
    "name": "ipython",
    "version": 3
   },
   "file_extension": ".py",
   "mimetype": "text/x-python",
   "name": "python",
   "nbconvert_exporter": "python",
   "pygments_lexer": "ipython3",
   "version": "3.8.11"
  }
 },
 "nbformat": 4,
 "nbformat_minor": 5
}
