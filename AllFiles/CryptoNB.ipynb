{
 "cells": [
  {
   "cell_type": "code",
   "execution_count": 1,
   "id": "759e14c9",
   "metadata": {},
   "outputs": [],
   "source": [
    "# All Imports\n",
    "import tensorflow as tf\n",
    "import json\n",
    "import requests\n",
    "from keras.models import Sequential\n",
    "from keras.layers import Activation, Dense, Dropout, LSTM\n",
    "import matplotlib.pyplot as plt\n",
    "import numpy as np\n",
    "import pandas as pd\n",
    "import seaborn as sns\n",
    "from sklearn.metrics import mean_absolute_error\n",
    "%matplotlib inline\n",
    "from sklearn.model_selection import train_test_split\n"
   ]
  },
  {
   "cell_type": "code",
   "execution_count": 2,
   "id": "9b5b472a",
   "metadata": {},
   "outputs": [],
   "source": [
    "# Coincap aoi to get bitcoin data\n",
    "endpoint = 'https://min-api.cryptocompare.com/data/v2/histoday'\n",
    "response = requests.get(endpoint + '?fsym=BTC&tsym=USD&limit=1999&api_key=346a5653477eed39d369f3b05523c27a427a45ab31125be8a8dbf06cf4478d49')\n",
    "dataTable = pd.DataFrame(json.loads(response.content)['Data']['Data'])\n",
    "dataTable = dataTable.set_index('time')\n",
    "dataTable.index = pd.to_datetime(dataTable.index, unit='s')\n",
    "target_col = 'close'"
   ]
  },
  {
   "cell_type": "code",
   "execution_count": 3,
   "id": "0aacce70",
   "metadata": {},
   "outputs": [],
   "source": [
    "dataTable.drop([\"conversionType\", \"conversionSymbol\"], axis = 'columns', inplace = True)"
   ]
  },
  {
   "cell_type": "code",
   "execution_count": 4,
   "id": "34863b29",
   "metadata": {},
   "outputs": [
    {
     "data": {
      "text/html": [
       "<div>\n",
       "<style scoped>\n",
       "    .dataframe tbody tr th:only-of-type {\n",
       "        vertical-align: middle;\n",
       "    }\n",
       "\n",
       "    .dataframe tbody tr th {\n",
       "        vertical-align: top;\n",
       "    }\n",
       "\n",
       "    .dataframe thead th {\n",
       "        text-align: right;\n",
       "    }\n",
       "</style>\n",
       "<table border=\"1\" class=\"dataframe\">\n",
       "  <thead>\n",
       "    <tr style=\"text-align: right;\">\n",
       "      <th></th>\n",
       "      <th>high</th>\n",
       "      <th>low</th>\n",
       "      <th>open</th>\n",
       "      <th>volumefrom</th>\n",
       "      <th>volumeto</th>\n",
       "      <th>close</th>\n",
       "    </tr>\n",
       "    <tr>\n",
       "      <th>time</th>\n",
       "      <th></th>\n",
       "      <th></th>\n",
       "      <th></th>\n",
       "      <th></th>\n",
       "      <th></th>\n",
       "      <th></th>\n",
       "    </tr>\n",
       "  </thead>\n",
       "  <tbody>\n",
       "    <tr>\n",
       "      <th>2016-04-16</th>\n",
       "      <td>432.00</td>\n",
       "      <td>426.84</td>\n",
       "      <td>428.67</td>\n",
       "      <td>29021.18</td>\n",
       "      <td>12517265.78</td>\n",
       "      <td>430.05</td>\n",
       "    </tr>\n",
       "    <tr>\n",
       "      <th>2016-04-17</th>\n",
       "      <td>430.62</td>\n",
       "      <td>423.79</td>\n",
       "      <td>430.05</td>\n",
       "      <td>25586.86</td>\n",
       "      <td>10980868.31</td>\n",
       "      <td>426.26</td>\n",
       "    </tr>\n",
       "    <tr>\n",
       "      <th>2016-04-18</th>\n",
       "      <td>429.07</td>\n",
       "      <td>424.35</td>\n",
       "      <td>426.26</td>\n",
       "      <td>32574.71</td>\n",
       "      <td>13951524.85</td>\n",
       "      <td>427.69</td>\n",
       "    </tr>\n",
       "    <tr>\n",
       "      <th>2016-04-19</th>\n",
       "      <td>436.07</td>\n",
       "      <td>426.84</td>\n",
       "      <td>427.69</td>\n",
       "      <td>45675.40</td>\n",
       "      <td>19713466.34</td>\n",
       "      <td>434.92</td>\n",
       "    </tr>\n",
       "    <tr>\n",
       "      <th>2016-04-20</th>\n",
       "      <td>442.86</td>\n",
       "      <td>432.51</td>\n",
       "      <td>434.92</td>\n",
       "      <td>74361.53</td>\n",
       "      <td>32655415.81</td>\n",
       "      <td>441.16</td>\n",
       "    </tr>\n",
       "  </tbody>\n",
       "</table>\n",
       "</div>"
      ],
      "text/plain": [
       "              high     low    open  volumefrom     volumeto   close\n",
       "time                                                               \n",
       "2016-04-16  432.00  426.84  428.67    29021.18  12517265.78  430.05\n",
       "2016-04-17  430.62  423.79  430.05    25586.86  10980868.31  426.26\n",
       "2016-04-18  429.07  424.35  426.26    32574.71  13951524.85  427.69\n",
       "2016-04-19  436.07  426.84  427.69    45675.40  19713466.34  434.92\n",
       "2016-04-20  442.86  432.51  434.92    74361.53  32655415.81  441.16"
      ]
     },
     "execution_count": 4,
     "metadata": {},
     "output_type": "execute_result"
    }
   ],
   "source": [
    "# print first 5 \n",
    "dataTable.head(5)"
   ]
  },
  {
   "cell_type": "code",
   "execution_count": 5,
   "id": "468c8752",
   "metadata": {},
   "outputs": [
    {
     "data": {
      "text/html": [
       "<div>\n",
       "<style scoped>\n",
       "    .dataframe tbody tr th:only-of-type {\n",
       "        vertical-align: middle;\n",
       "    }\n",
       "\n",
       "    .dataframe tbody tr th {\n",
       "        vertical-align: top;\n",
       "    }\n",
       "\n",
       "    .dataframe thead th {\n",
       "        text-align: right;\n",
       "    }\n",
       "</style>\n",
       "<table border=\"1\" class=\"dataframe\">\n",
       "  <thead>\n",
       "    <tr style=\"text-align: right;\">\n",
       "      <th></th>\n",
       "      <th>high</th>\n",
       "      <th>low</th>\n",
       "      <th>open</th>\n",
       "      <th>volumefrom</th>\n",
       "      <th>volumeto</th>\n",
       "      <th>close</th>\n",
       "    </tr>\n",
       "    <tr>\n",
       "      <th>time</th>\n",
       "      <th></th>\n",
       "      <th></th>\n",
       "      <th></th>\n",
       "      <th></th>\n",
       "      <th></th>\n",
       "      <th></th>\n",
       "    </tr>\n",
       "  </thead>\n",
       "  <tbody>\n",
       "    <tr>\n",
       "      <th>2021-10-02</th>\n",
       "      <td>48347.69</td>\n",
       "      <td>47468.49</td>\n",
       "      <td>48164.35</td>\n",
       "      <td>16062.18</td>\n",
       "      <td>7.690222e+08</td>\n",
       "      <td>47669.02</td>\n",
       "    </tr>\n",
       "    <tr>\n",
       "      <th>2021-10-03</th>\n",
       "      <td>49185.34</td>\n",
       "      <td>47137.07</td>\n",
       "      <td>47669.02</td>\n",
       "      <td>18588.83</td>\n",
       "      <td>8.956068e+08</td>\n",
       "      <td>48234.05</td>\n",
       "    </tr>\n",
       "    <tr>\n",
       "      <th>2021-10-04</th>\n",
       "      <td>49501.21</td>\n",
       "      <td>46944.28</td>\n",
       "      <td>48234.05</td>\n",
       "      <td>34394.00</td>\n",
       "      <td>1.664028e+09</td>\n",
       "      <td>49276.91</td>\n",
       "    </tr>\n",
       "    <tr>\n",
       "      <th>2021-10-05</th>\n",
       "      <td>51885.03</td>\n",
       "      <td>49087.72</td>\n",
       "      <td>49276.91</td>\n",
       "      <td>40687.89</td>\n",
       "      <td>2.049372e+09</td>\n",
       "      <td>51504.27</td>\n",
       "    </tr>\n",
       "    <tr>\n",
       "      <th>2021-10-06</th>\n",
       "      <td>51521.80</td>\n",
       "      <td>50939.38</td>\n",
       "      <td>51504.27</td>\n",
       "      <td>3018.57</td>\n",
       "      <td>1.547207e+08</td>\n",
       "      <td>51277.93</td>\n",
       "    </tr>\n",
       "  </tbody>\n",
       "</table>\n",
       "</div>"
      ],
      "text/plain": [
       "                high       low      open  volumefrom      volumeto     close\n",
       "time                                                                        \n",
       "2021-10-02  48347.69  47468.49  48164.35    16062.18  7.690222e+08  47669.02\n",
       "2021-10-03  49185.34  47137.07  47669.02    18588.83  8.956068e+08  48234.05\n",
       "2021-10-04  49501.21  46944.28  48234.05    34394.00  1.664028e+09  49276.91\n",
       "2021-10-05  51885.03  49087.72  49276.91    40687.89  2.049372e+09  51504.27\n",
       "2021-10-06  51521.80  50939.38  51504.27     3018.57  1.547207e+08  51277.93"
      ]
     },
     "execution_count": 5,
     "metadata": {},
     "output_type": "execute_result"
    }
   ],
   "source": [
    "# print last 5\n",
    "dataTable.tail(5)"
   ]
  },
  {
   "cell_type": "code",
   "execution_count": 6,
   "id": "f84545cc",
   "metadata": {},
   "outputs": [],
   "source": [
    "# training 60%, validation 20%, testing 20%\n",
    "def data_split(dt, test_size=0.2, validation_size=0.25):\n",
    "    remaining, test = train_test_split(dt, test_size=test_size, shuffle=False)\n",
    "    train,validation  = train_test_split(remaining, test_size=validation_size, shuffle=False) # 0.25 x 0.8 = 0.2\n",
    "    return train, validation, test"
   ]
  },
  {
   "cell_type": "code",
   "execution_count": 7,
   "id": "c85208e1",
   "metadata": {},
   "outputs": [],
   "source": [
    "train, validation, test  = data_split(dataTable, test_size=0.2, validation_size=0.25)"
   ]
  },
  {
   "cell_type": "code",
   "execution_count": 8,
   "id": "aa2e80b1",
   "metadata": {},
   "outputs": [],
   "source": [
    "def line_plot(line1, line2, line3, label1=None, label2=None, label3=None, title='', lw=2):\n",
    "    fig, ax = plt.subplots(1, figsize=(13, 7))\n",
    "    ax.plot(line1, label=label1, linewidth=lw)\n",
    "    ax.plot(line2, label=label2, linewidth=lw)\n",
    "    ax.plot(line3, label=label3, linewidth=lw)\n",
    "    ax.set_ylabel('price [USD]', fontsize=14)\n",
    "    ax.set_title(title, fontsize=16)\n",
    "    ax.legend(loc='best', fontsize=16)"
   ]
  },
  {
   "cell_type": "code",
   "execution_count": 9,
   "id": "1536a5df",
   "metadata": {},
   "outputs": [
    {
     "data": {
      "image/png": "[encoded data removed]",
      "text/plain": [
       "<Figure size 936x504 with 1 Axes>"
      ]
     },
     "metadata": {
      "needs_background": "light"
     },
     "output_type": "display_data"
    }
   ],
   "source": [
    "line_plot(train[target_col], validation[target_col], test[target_col], 'training', 'validation', 'test')"
   ]
  },
  {
   "cell_type": "code",
   "execution_count": 39,
   "id": "2ee571c1",
   "metadata": {},
   "outputs": [],
   "source": [
    "#normalizing the data\n",
    "def normalise_zero_base(dt):\n",
    "    return dt / dt.iloc[0] - 1\n",
    "\n",
    "def normalise_min_max(dt):\n",
    "    return (dt - dt.min()) / (dt.max() - dt.min())"
   ]
  },
  {
   "cell_type": "code",
   "execution_count": 40,
   "id": "b3b23aa7",
   "metadata": {},
   "outputs": [],
   "source": [
    "def extract_window_data(dt, window_len=5, zero_base=True):\n",
    "    window_data = []\n",
    "    for idx in range(len(dt) - window_len):\n",
    "        tmp = dt[idx: (idx + window_len)].copy()\n",
    "        window_data.append(tmp.values)\n",
    "    return np.array(window_data)"
   ]
  },
  {
   "cell_type": "code",
   "execution_count": 47,
   "id": "f75fb7b4",
   "metadata": {},
   "outputs": [],
   "source": [
    "def prepare_data(dt, target_col, window_len=10, zero_base=True, test_size=0.2, validation_size=0.25):\n",
    "    \n",
    "    train_d, validation_d, test_d = data_split(dt, test_size=test_size,validation_size=validation_size)\n",
    "#     print(test_d)\n",
    "    X_train = extract_window_data(train_d, window_len, zero_base)\n",
    "    X_validation = extract_window_data(validation_d, window_len, zero_base)\n",
    "    X_test = extract_window_data(test_d, window_len, zero_base)\n",
    "#     print(\"X_test\",X_test)\n",
    "    y_train = train_d[target_col][window_len:].values\n",
    "    y_validation = validation_d[target_col][window_len:].values\n",
    "    y_test = test_d[target_col][window_len:].values\n",
    "#     print(\"y_test\",y_test)\n",
    "    if zero_base:\n",
    "        y_train = y_train / train_d[target_col][:-window_len].values - 1\n",
    "        y_validation = y_validation / validation_d[target_col][:-window_len].values - 1\n",
    "        y_test = y_test / test_d[target_col][:-window_len].values - 1\n",
    "\n",
    "    return train_d, validation_d, test_d, X_train, X_validation, X_test, y_train, y_validation, y_test"
   ]
  },
  {
   "cell_type": "code",
   "execution_count": 48,
   "id": "d5ecabfc",
   "metadata": {},
   "outputs": [],
   "source": [
    "def build_lstm_model(input_data, output_size, neurons=100, activ_func='linear',\n",
    "                     dropout=0.2, loss='mse', optimizer='adam'):\n",
    "    model = Sequential()\n",
    "    model.add(LSTM(neurons, input_shape=(input_data.shape[1], input_data.shape[2])))\n",
    "    model.add(Dropout(dropout))\n",
    "    model.add(Dense(units=output_size))\n",
    "    model.add(Activation(activ_func))\n",
    "\n",
    "    model.compile(loss=loss, optimizer=optimizer)\n",
    "    return model"
   ]
  },
  {
   "cell_type": "code",
   "execution_count": 49,
   "id": "69caeb2c",
   "metadata": {},
   "outputs": [],
   "source": [
    "np.random.seed(42)\n",
    "window_len = 5\n",
    "test_size = 0.2\n",
    "validation_size=0.25\n",
    "zero_base = True\n",
    "lstm_neurons = 100\n",
    "epochs = 20\n",
    "batch_size = 32\n",
    "loss = 'mse'\n",
    "dropout = 0.2\n",
    "optimizer = 'adam'"
   ]
  },
  {
   "cell_type": "code",
   "execution_count": 59,
   "id": "3b8772db",
   "metadata": {},
   "outputs": [],
   "source": [
    "train_d, validation_d, test_d, X_train, X_validation, X_test, y_train, y_validation, y_test = prepare_data(\n",
    "    dataTable, target_col, window_len=window_len, zero_base=zero_base, test_size=test_size, validation_size=validation_size)"
   ]
  },
  {
   "cell_type": "code",
   "execution_count": 60,
   "id": "8762d7bd",
   "metadata": {},
   "outputs": [
    {
     "name": "stdout",
     "output_type": "stream",
     "text": [
      "Epoch 1/20\n",
      "38/38 [==============================] - 1s 33ms/step - loss: 0.1093 - val_loss: 0.0106\n",
      "Epoch 2/20\n",
      "38/38 [==============================] - 0s 6ms/step - loss: 0.0781 - val_loss: 0.0065\n",
      "Epoch 3/20\n",
      "38/38 [==============================] - 0s 6ms/step - loss: 0.0648 - val_loss: 0.0066\n",
      "Epoch 4/20\n",
      "38/38 [==============================] - 0s 7ms/step - loss: 0.0623 - val_loss: 0.0065\n",
      "Epoch 5/20\n",
      "38/38 [==============================] - 0s 7ms/step - loss: 0.0527 - val_loss: 0.0066\n",
      "Epoch 6/20\n",
      "38/38 [==============================] - 0s 7ms/step - loss: 0.0418 - val_loss: 0.0085\n",
      "Epoch 7/20\n",
      "38/38 [==============================] - 0s 6ms/step - loss: 0.0379 - val_loss: 0.0067\n",
      "Epoch 8/20\n",
      "38/38 [==============================] - 0s 6ms/step - loss: 0.0326 - val_loss: 0.0069\n",
      "Epoch 9/20\n",
      "38/38 [==============================] - 0s 7ms/step - loss: 0.0262 - val_loss: 0.0065\n",
      "Epoch 10/20\n",
      "38/38 [==============================] - 0s 7ms/step - loss: 0.0217 - val_loss: 0.0065\n",
      "Epoch 11/20\n",
      "38/38 [==============================] - 0s 7ms/step - loss: 0.0195 - val_loss: 0.0066\n",
      "Epoch 12/20\n",
      "38/38 [==============================] - 0s 6ms/step - loss: 0.0172 - val_loss: 0.0065\n",
      "Epoch 13/20\n",
      "38/38 [==============================] - 0s 6ms/step - loss: 0.0142 - val_loss: 0.0073\n",
      "Epoch 14/20\n",
      "38/38 [==============================] - 0s 7ms/step - loss: 0.0132 - val_loss: 0.0067\n",
      "Epoch 15/20\n",
      "38/38 [==============================] - 0s 8ms/step - loss: 0.0121 - val_loss: 0.0067\n",
      "Epoch 16/20\n",
      "38/38 [==============================] - 0s 7ms/step - loss: 0.0113 - val_loss: 0.0068\n",
      "Epoch 17/20\n",
      "38/38 [==============================] - 0s 7ms/step - loss: 0.0110 - val_loss: 0.0065\n",
      "Epoch 18/20\n",
      "38/38 [==============================] - 0s 7ms/step - loss: 0.0106 - val_loss: 0.0070\n",
      "Epoch 19/20\n",
      "38/38 [==============================] - 0s 8ms/step - loss: 0.0096 - val_loss: 0.0066\n",
      "Epoch 20/20\n",
      "38/38 [==============================] - 0s 6ms/step - loss: 0.0097 - val_loss: 0.0065\n"
     ]
    }
   ],
   "source": [
    "model = build_lstm_model(X_train, output_size=1, neurons=lstm_neurons, dropout=dropout, loss=loss, optimizer=optimizer)\n",
    "\n",
    "history = model.fit(X_train, y_train, validation_data=(X_validation, y_validation), epochs=epochs, batch_size=batch_size, verbose=1, shuffle=True)"
   ]
  },
  {
   "cell_type": "code",
   "execution_count": 61,
   "id": "d52cea6a",
   "metadata": {},
   "outputs": [
    {
     "data": {
      "image/png": "[encoded data removed]",
      "text/plain": [
       "<Figure size 432x288 with 1 Axes>"
      ]
     },
     "metadata": {
      "needs_background": "light"
     },
     "output_type": "display_data"
    }
   ],
   "source": [
    "import matplotlib.pyplot as plt\n",
    "plt.plot(history.history['loss'],'r',linewidth=2, label='Train loss')\n",
    "plt.plot(history.history['val_loss'], 'g',linewidth=2, label='Validation loss')\n",
    "plt.title('LSTM')\n",
    "plt.xlabel('Epochs')\n",
    "plt.ylabel('MSE')\n",
    "plt.show()"
   ]
  },
  {
   "cell_type": "code",
   "execution_count": 62,
   "id": "a1b4bc09",
   "metadata": {},
   "outputs": [
    {
     "name": "stdout",
     "output_type": "stream",
     "text": [
      "13/13 [==============================] - 0s 3ms/step - loss: 0.0086\n",
      "test loss, test acc: 0.008621243759989738\n"
     ]
    }
   ],
   "source": [
    "results = model.evaluate(X_test, y_test, batch_size=batch_size)\n",
    "print(\"test loss, test acc:\", results)"
   ]
  },
  {
   "cell_type": "code",
   "execution_count": 63,
   "id": "cd28e38a",
   "metadata": {},
   "outputs": [
    {
     "data": {
      "text/plain": [
       "0.07188355876981738"
      ]
     },
     "execution_count": 63,
     "metadata": {},
     "output_type": "execute_result"
    }
   ],
   "source": [
    "targets = test[target_col][window_len:]\n",
    "preds = model.predict(X_test).squeeze()\n",
    "mean_absolute_error(preds, y_test)"
   ]
  },
  {
   "cell_type": "code",
   "execution_count": 64,
   "id": "d200137f",
   "metadata": {},
   "outputs": [
    {
     "data": {
      "text/plain": [
       "0.008621243809213147"
      ]
     },
     "execution_count": 64,
     "metadata": {},
     "output_type": "execute_result"
    }
   ],
   "source": [
    "from sklearn.metrics import mean_squared_error\n",
    "MAE=mean_squared_error(preds, y_test)\n",
    "MAE"
   ]
  },
  {
   "cell_type": "code",
   "execution_count": 65,
   "id": "f5addc9b",
   "metadata": {},
   "outputs": [
    {
     "data": {
      "text/plain": [
       "-0.03082263436463717"
      ]
     },
     "execution_count": 65,
     "metadata": {},
     "output_type": "execute_result"
    }
   ],
   "source": [
    "from sklearn.metrics import r2_score\n",
    "R2=r2_score(y_test, preds)\n",
    "R2"
   ]
  },
  {
   "cell_type": "code",
   "execution_count": 66,
   "id": "82c729d0",
   "metadata": {},
   "outputs": [
    {
     "name": "stdout",
     "output_type": "stream",
     "text": [
      "time\n",
      "2020-09-07    10379.08\n",
      "2020-09-08    10128.54\n",
      "2020-09-09    10228.85\n",
      "2020-09-10    10345.68\n",
      "2020-09-11    10398.50\n",
      "                ...   \n",
      "2021-10-02    47669.02\n",
      "2021-10-03    48234.05\n",
      "2021-10-04    49276.91\n",
      "2021-10-05    51504.27\n",
      "2021-10-06    51277.93\n",
      "Name: close, Length: 395, dtype: float64\n",
      "time\n",
      "2020-09-07    11488.181184\n",
      "2020-09-08    10255.211753\n",
      "2020-09-09    10550.240269\n",
      "2020-09-10    10248.509080\n",
      "2020-09-11    10341.640967\n",
      "                  ...     \n",
      "2021-10-02    42521.671413\n",
      "2021-10-03    41381.995137\n",
      "2021-10-04    41868.458061\n",
      "2021-10-05    44176.506121\n",
      "2021-10-06    48545.853133\n",
      "Length: 395, dtype: float64\n"
     ]
    },
    {
     "data": {
      "text/plain": [
       "<matplotlib.legend.Legend at 0x1dd77ce7c10>"
      ]
     },
     "execution_count": 66,
     "metadata": {},
     "output_type": "execute_result"
    },
    {
     "data": {
      "image/png": "[encoded data removed]",
      "text/plain": [
       "<Figure size 936x504 with 1 Axes>"
      ]
     },
     "metadata": {
      "needs_background": "light"
     },
     "output_type": "display_data"
    }
   ],
   "source": [
    "preds = test[target_col].values[:-window_len] * (preds + 1)\n",
    "preds = pd.Series(index=targets.index, data=preds)\n",
    "print(targets)\n",
    "print(preds)\n",
    "fig, ax = plt.subplots(1, figsize=(13, 7))\n",
    "ax.plot(targets, label='actual', linewidth=3)\n",
    "ax.plot(preds, label='prediction', linewidth=3)\n",
    "ax.set_ylabel('price [USD]', fontsize=14)\n",
    "ax.set_title(\"\", fontsize=16)\n",
    "ax.legend(loc='best', fontsize=16)\n",
    "# line_plot(targets, preds, 'actual', 'prediction', lw=3)"
   ]
  },
  {
   "cell_type": "code",
   "execution_count": null,
   "id": "153e2f2b",
   "metadata": {},
   "outputs": [],
   "source": []
  },
  {
   "cell_type": "code",
   "execution_count": null,
   "id": "01d6765b",
   "metadata": {},
   "outputs": [],
   "source": []
  }
 ],
 "metadata": {
  "kernelspec": {
   "display_name": "Python 3 (ipykernel)",
   "language": "python",
   "name": "python3"
  },
  "language_info": {
   "codemirror_mode": {
    "name": "ipython",
    "version": 3
   },
   "file_extension": ".py",
   "mimetype": "text/x-python",
   "name": "python",
   "nbconvert_exporter": "python",
   "pygments_lexer": "ipython3",
   "version": "3.8.11"
  }
 },
 "nbformat": 4,
 "nbformat_minor": 5
}
